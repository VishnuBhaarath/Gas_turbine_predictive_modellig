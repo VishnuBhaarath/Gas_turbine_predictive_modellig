{
  "nbformat": 4,
  "nbformat_minor": 0,
  "metadata": {
    "colab": {
      "name": "Ridge_regression.ipynb",
      "provenance": [],
      "authorship_tag": "ABX9TyPnv73053f13SeB7CHRlL9s",
      "include_colab_link": true
    },
    "kernelspec": {
      "name": "python3",
      "display_name": "Python 3"
    },
    "language_info": {
      "name": "python"
    }
  },
  "cells": [
    {
      "cell_type": "markdown",
      "metadata": {
        "id": "view-in-github",
        "colab_type": "text"
      },
      "source": [
        "<a href=\"https://colab.research.google.com/github/VishnuBhaarath/Gas_turbine_predictive_modelling/blob/main/Ridge_regression.ipynb\" target=\"_parent\"><img src=\"https://colab.research.google.com/assets/colab-badge.svg\" alt=\"Open In Colab\"/></a>"
      ]
    },
    {
      "cell_type": "code",
      "execution_count": 1,
      "metadata": {
        "colab": {
          "base_uri": "https://localhost:8080/"
        },
        "id": "RC88rgXiQ7Py",
        "outputId": "06d90248-104e-481a-97d8-058c5846e444"
      },
      "outputs": [
        {
          "output_type": "stream",
          "name": "stdout",
          "text": [
            "Mounted at /content/drive\n"
          ]
        }
      ],
      "source": [
        "from google.colab import drive\n",
        "drive.mount('/content/drive')"
      ]
    },
    {
      "cell_type": "code",
      "source": [
        "from sklearn.linear_model import Ridge\n",
        "import pandas as pd\n",
        "import numpy as np\n",
        "from sklearn.preprocessing import MinMaxScaler\n",
        "from sklearn.metrics import r2_score"
      ],
      "metadata": {
        "id": "F2jH8ST8S8_4"
      },
      "execution_count": 33,
      "outputs": []
    },
    {
      "cell_type": "code",
      "source": [
        "df=pd.read_csv('/content/drive/MyDrive/gas_turbine/gt_2011-2015.csv')\n",
        "df.head()"
      ],
      "metadata": {
        "colab": {
          "base_uri": "https://localhost:8080/",
          "height": 206
        },
        "id": "Z244EP7WTWzp",
        "outputId": "aeb5ed9d-b489-4a32-a6c9-17ea7c058f61"
      },
      "execution_count": 3,
      "outputs": [
        {
          "output_type": "execute_result",
          "data": {
            "text/html": [
              "\n",
              "  <div id=\"df-ffbe5abb-6423-4b93-921e-f14e27389a6f\">\n",
              "    <div class=\"colab-df-container\">\n",
              "      <div>\n",
              "<style scoped>\n",
              "    .dataframe tbody tr th:only-of-type {\n",
              "        vertical-align: middle;\n",
              "    }\n",
              "\n",
              "    .dataframe tbody tr th {\n",
              "        vertical-align: top;\n",
              "    }\n",
              "\n",
              "    .dataframe thead th {\n",
              "        text-align: right;\n",
              "    }\n",
              "</style>\n",
              "<table border=\"1\" class=\"dataframe\">\n",
              "  <thead>\n",
              "    <tr style=\"text-align: right;\">\n",
              "      <th></th>\n",
              "      <th>Unnamed: 0</th>\n",
              "      <th>AT</th>\n",
              "      <th>AP</th>\n",
              "      <th>AH</th>\n",
              "      <th>AFDP</th>\n",
              "      <th>GTEP</th>\n",
              "      <th>TIT</th>\n",
              "      <th>TAT</th>\n",
              "      <th>TEY</th>\n",
              "      <th>CDP</th>\n",
              "      <th>CO</th>\n",
              "      <th>NOX</th>\n",
              "    </tr>\n",
              "  </thead>\n",
              "  <tbody>\n",
              "    <tr>\n",
              "      <th>0</th>\n",
              "      <td>0</td>\n",
              "      <td>4.5878</td>\n",
              "      <td>1018.7</td>\n",
              "      <td>83.675</td>\n",
              "      <td>3.5758</td>\n",
              "      <td>23.979</td>\n",
              "      <td>1086.2</td>\n",
              "      <td>549.83</td>\n",
              "      <td>134.67</td>\n",
              "      <td>11.898</td>\n",
              "      <td>0.32663</td>\n",
              "      <td>81.952</td>\n",
              "    </tr>\n",
              "    <tr>\n",
              "      <th>1</th>\n",
              "      <td>1</td>\n",
              "      <td>4.2932</td>\n",
              "      <td>1018.3</td>\n",
              "      <td>84.235</td>\n",
              "      <td>3.5709</td>\n",
              "      <td>23.951</td>\n",
              "      <td>1086.1</td>\n",
              "      <td>550.05</td>\n",
              "      <td>134.67</td>\n",
              "      <td>11.892</td>\n",
              "      <td>0.44784</td>\n",
              "      <td>82.377</td>\n",
              "    </tr>\n",
              "    <tr>\n",
              "      <th>2</th>\n",
              "      <td>2</td>\n",
              "      <td>3.9045</td>\n",
              "      <td>1018.4</td>\n",
              "      <td>84.858</td>\n",
              "      <td>3.5828</td>\n",
              "      <td>23.990</td>\n",
              "      <td>1086.5</td>\n",
              "      <td>550.19</td>\n",
              "      <td>135.10</td>\n",
              "      <td>12.042</td>\n",
              "      <td>0.45144</td>\n",
              "      <td>83.776</td>\n",
              "    </tr>\n",
              "    <tr>\n",
              "      <th>3</th>\n",
              "      <td>3</td>\n",
              "      <td>3.7436</td>\n",
              "      <td>1018.3</td>\n",
              "      <td>85.434</td>\n",
              "      <td>3.5808</td>\n",
              "      <td>23.911</td>\n",
              "      <td>1086.5</td>\n",
              "      <td>550.17</td>\n",
              "      <td>135.03</td>\n",
              "      <td>11.990</td>\n",
              "      <td>0.23107</td>\n",
              "      <td>82.505</td>\n",
              "    </tr>\n",
              "    <tr>\n",
              "      <th>4</th>\n",
              "      <td>4</td>\n",
              "      <td>3.7516</td>\n",
              "      <td>1017.8</td>\n",
              "      <td>85.182</td>\n",
              "      <td>3.5781</td>\n",
              "      <td>23.917</td>\n",
              "      <td>1085.9</td>\n",
              "      <td>550.00</td>\n",
              "      <td>134.67</td>\n",
              "      <td>11.910</td>\n",
              "      <td>0.26747</td>\n",
              "      <td>82.028</td>\n",
              "    </tr>\n",
              "  </tbody>\n",
              "</table>\n",
              "</div>\n",
              "      <button class=\"colab-df-convert\" onclick=\"convertToInteractive('df-ffbe5abb-6423-4b93-921e-f14e27389a6f')\"\n",
              "              title=\"Convert this dataframe to an interactive table.\"\n",
              "              style=\"display:none;\">\n",
              "        \n",
              "  <svg xmlns=\"http://www.w3.org/2000/svg\" height=\"24px\"viewBox=\"0 0 24 24\"\n",
              "       width=\"24px\">\n",
              "    <path d=\"M0 0h24v24H0V0z\" fill=\"none\"/>\n",
              "    <path d=\"M18.56 5.44l.94 2.06.94-2.06 2.06-.94-2.06-.94-.94-2.06-.94 2.06-2.06.94zm-11 1L8.5 8.5l.94-2.06 2.06-.94-2.06-.94L8.5 2.5l-.94 2.06-2.06.94zm10 10l.94 2.06.94-2.06 2.06-.94-2.06-.94-.94-2.06-.94 2.06-2.06.94z\"/><path d=\"M17.41 7.96l-1.37-1.37c-.4-.4-.92-.59-1.43-.59-.52 0-1.04.2-1.43.59L10.3 9.45l-7.72 7.72c-.78.78-.78 2.05 0 2.83L4 21.41c.39.39.9.59 1.41.59.51 0 1.02-.2 1.41-.59l7.78-7.78 2.81-2.81c.8-.78.8-2.07 0-2.86zM5.41 20L4 18.59l7.72-7.72 1.47 1.35L5.41 20z\"/>\n",
              "  </svg>\n",
              "      </button>\n",
              "      \n",
              "  <style>\n",
              "    .colab-df-container {\n",
              "      display:flex;\n",
              "      flex-wrap:wrap;\n",
              "      gap: 12px;\n",
              "    }\n",
              "\n",
              "    .colab-df-convert {\n",
              "      background-color: #E8F0FE;\n",
              "      border: none;\n",
              "      border-radius: 50%;\n",
              "      cursor: pointer;\n",
              "      display: none;\n",
              "      fill: #1967D2;\n",
              "      height: 32px;\n",
              "      padding: 0 0 0 0;\n",
              "      width: 32px;\n",
              "    }\n",
              "\n",
              "    .colab-df-convert:hover {\n",
              "      background-color: #E2EBFA;\n",
              "      box-shadow: 0px 1px 2px rgba(60, 64, 67, 0.3), 0px 1px 3px 1px rgba(60, 64, 67, 0.15);\n",
              "      fill: #174EA6;\n",
              "    }\n",
              "\n",
              "    [theme=dark] .colab-df-convert {\n",
              "      background-color: #3B4455;\n",
              "      fill: #D2E3FC;\n",
              "    }\n",
              "\n",
              "    [theme=dark] .colab-df-convert:hover {\n",
              "      background-color: #434B5C;\n",
              "      box-shadow: 0px 1px 3px 1px rgba(0, 0, 0, 0.15);\n",
              "      filter: drop-shadow(0px 1px 2px rgba(0, 0, 0, 0.3));\n",
              "      fill: #FFFFFF;\n",
              "    }\n",
              "  </style>\n",
              "\n",
              "      <script>\n",
              "        const buttonEl =\n",
              "          document.querySelector('#df-ffbe5abb-6423-4b93-921e-f14e27389a6f button.colab-df-convert');\n",
              "        buttonEl.style.display =\n",
              "          google.colab.kernel.accessAllowed ? 'block' : 'none';\n",
              "\n",
              "        async function convertToInteractive(key) {\n",
              "          const element = document.querySelector('#df-ffbe5abb-6423-4b93-921e-f14e27389a6f');\n",
              "          const dataTable =\n",
              "            await google.colab.kernel.invokeFunction('convertToInteractive',\n",
              "                                                     [key], {});\n",
              "          if (!dataTable) return;\n",
              "\n",
              "          const docLinkHtml = 'Like what you see? Visit the ' +\n",
              "            '<a target=\"_blank\" href=https://colab.research.google.com/notebooks/data_table.ipynb>data table notebook</a>'\n",
              "            + ' to learn more about interactive tables.';\n",
              "          element.innerHTML = '';\n",
              "          dataTable['output_type'] = 'display_data';\n",
              "          await google.colab.output.renderOutput(dataTable, element);\n",
              "          const docLink = document.createElement('div');\n",
              "          docLink.innerHTML = docLinkHtml;\n",
              "          element.appendChild(docLink);\n",
              "        }\n",
              "      </script>\n",
              "    </div>\n",
              "  </div>\n",
              "  "
            ],
            "text/plain": [
              "   Unnamed: 0      AT      AP      AH  ...     TEY     CDP       CO     NOX\n",
              "0           0  4.5878  1018.7  83.675  ...  134.67  11.898  0.32663  81.952\n",
              "1           1  4.2932  1018.3  84.235  ...  134.67  11.892  0.44784  82.377\n",
              "2           2  3.9045  1018.4  84.858  ...  135.10  12.042  0.45144  83.776\n",
              "3           3  3.7436  1018.3  85.434  ...  135.03  11.990  0.23107  82.505\n",
              "4           4  3.7516  1017.8  85.182  ...  134.67  11.910  0.26747  82.028\n",
              "\n",
              "[5 rows x 12 columns]"
            ]
          },
          "metadata": {},
          "execution_count": 3
        }
      ]
    },
    {
      "cell_type": "code",
      "source": [
        "df=df.drop('Unnamed: 0',axis=1)"
      ],
      "metadata": {
        "id": "Mk-G9wonTbO1"
      },
      "execution_count": 4,
      "outputs": []
    },
    {
      "cell_type": "code",
      "source": [
        "df.shape"
      ],
      "metadata": {
        "colab": {
          "base_uri": "https://localhost:8080/"
        },
        "id": "UaYqrN4-Tc3c",
        "outputId": "6b720357-97d2-417e-e15f-f6fc673c0435"
      },
      "execution_count": 5,
      "outputs": [
        {
          "output_type": "execute_result",
          "data": {
            "text/plain": [
              "(36733, 11)"
            ]
          },
          "metadata": {},
          "execution_count": 5
        }
      ]
    },
    {
      "cell_type": "markdown",
      "source": [
        "GTEP"
      ],
      "metadata": {
        "id": "8m8_OHFVTyZq"
      }
    },
    {
      "cell_type": "code",
      "source": [
        "dataset=df[['AT','AP','AH','TEY','AFDP','GTEP']]\n",
        "dataset.head()"
      ],
      "metadata": {
        "colab": {
          "base_uri": "https://localhost:8080/",
          "height": 206
        },
        "id": "qE9IT_5dTqV6",
        "outputId": "78031368-da7b-466f-ddc3-9eb89ef46910"
      },
      "execution_count": 46,
      "outputs": [
        {
          "output_type": "execute_result",
          "data": {
            "text/html": [
              "\n",
              "  <div id=\"df-3bec1e29-978e-49e3-9b43-6c6b1e34e199\">\n",
              "    <div class=\"colab-df-container\">\n",
              "      <div>\n",
              "<style scoped>\n",
              "    .dataframe tbody tr th:only-of-type {\n",
              "        vertical-align: middle;\n",
              "    }\n",
              "\n",
              "    .dataframe tbody tr th {\n",
              "        vertical-align: top;\n",
              "    }\n",
              "\n",
              "    .dataframe thead th {\n",
              "        text-align: right;\n",
              "    }\n",
              "</style>\n",
              "<table border=\"1\" class=\"dataframe\">\n",
              "  <thead>\n",
              "    <tr style=\"text-align: right;\">\n",
              "      <th></th>\n",
              "      <th>AT</th>\n",
              "      <th>AP</th>\n",
              "      <th>AH</th>\n",
              "      <th>TEY</th>\n",
              "      <th>AFDP</th>\n",
              "      <th>GTEP</th>\n",
              "    </tr>\n",
              "  </thead>\n",
              "  <tbody>\n",
              "    <tr>\n",
              "      <th>0</th>\n",
              "      <td>4.5878</td>\n",
              "      <td>1018.7</td>\n",
              "      <td>83.675</td>\n",
              "      <td>134.67</td>\n",
              "      <td>3.5758</td>\n",
              "      <td>23.979</td>\n",
              "    </tr>\n",
              "    <tr>\n",
              "      <th>1</th>\n",
              "      <td>4.2932</td>\n",
              "      <td>1018.3</td>\n",
              "      <td>84.235</td>\n",
              "      <td>134.67</td>\n",
              "      <td>3.5709</td>\n",
              "      <td>23.951</td>\n",
              "    </tr>\n",
              "    <tr>\n",
              "      <th>2</th>\n",
              "      <td>3.9045</td>\n",
              "      <td>1018.4</td>\n",
              "      <td>84.858</td>\n",
              "      <td>135.10</td>\n",
              "      <td>3.5828</td>\n",
              "      <td>23.990</td>\n",
              "    </tr>\n",
              "    <tr>\n",
              "      <th>3</th>\n",
              "      <td>3.7436</td>\n",
              "      <td>1018.3</td>\n",
              "      <td>85.434</td>\n",
              "      <td>135.03</td>\n",
              "      <td>3.5808</td>\n",
              "      <td>23.911</td>\n",
              "    </tr>\n",
              "    <tr>\n",
              "      <th>4</th>\n",
              "      <td>3.7516</td>\n",
              "      <td>1017.8</td>\n",
              "      <td>85.182</td>\n",
              "      <td>134.67</td>\n",
              "      <td>3.5781</td>\n",
              "      <td>23.917</td>\n",
              "    </tr>\n",
              "  </tbody>\n",
              "</table>\n",
              "</div>\n",
              "      <button class=\"colab-df-convert\" onclick=\"convertToInteractive('df-3bec1e29-978e-49e3-9b43-6c6b1e34e199')\"\n",
              "              title=\"Convert this dataframe to an interactive table.\"\n",
              "              style=\"display:none;\">\n",
              "        \n",
              "  <svg xmlns=\"http://www.w3.org/2000/svg\" height=\"24px\"viewBox=\"0 0 24 24\"\n",
              "       width=\"24px\">\n",
              "    <path d=\"M0 0h24v24H0V0z\" fill=\"none\"/>\n",
              "    <path d=\"M18.56 5.44l.94 2.06.94-2.06 2.06-.94-2.06-.94-.94-2.06-.94 2.06-2.06.94zm-11 1L8.5 8.5l.94-2.06 2.06-.94-2.06-.94L8.5 2.5l-.94 2.06-2.06.94zm10 10l.94 2.06.94-2.06 2.06-.94-2.06-.94-.94-2.06-.94 2.06-2.06.94z\"/><path d=\"M17.41 7.96l-1.37-1.37c-.4-.4-.92-.59-1.43-.59-.52 0-1.04.2-1.43.59L10.3 9.45l-7.72 7.72c-.78.78-.78 2.05 0 2.83L4 21.41c.39.39.9.59 1.41.59.51 0 1.02-.2 1.41-.59l7.78-7.78 2.81-2.81c.8-.78.8-2.07 0-2.86zM5.41 20L4 18.59l7.72-7.72 1.47 1.35L5.41 20z\"/>\n",
              "  </svg>\n",
              "      </button>\n",
              "      \n",
              "  <style>\n",
              "    .colab-df-container {\n",
              "      display:flex;\n",
              "      flex-wrap:wrap;\n",
              "      gap: 12px;\n",
              "    }\n",
              "\n",
              "    .colab-df-convert {\n",
              "      background-color: #E8F0FE;\n",
              "      border: none;\n",
              "      border-radius: 50%;\n",
              "      cursor: pointer;\n",
              "      display: none;\n",
              "      fill: #1967D2;\n",
              "      height: 32px;\n",
              "      padding: 0 0 0 0;\n",
              "      width: 32px;\n",
              "    }\n",
              "\n",
              "    .colab-df-convert:hover {\n",
              "      background-color: #E2EBFA;\n",
              "      box-shadow: 0px 1px 2px rgba(60, 64, 67, 0.3), 0px 1px 3px 1px rgba(60, 64, 67, 0.15);\n",
              "      fill: #174EA6;\n",
              "    }\n",
              "\n",
              "    [theme=dark] .colab-df-convert {\n",
              "      background-color: #3B4455;\n",
              "      fill: #D2E3FC;\n",
              "    }\n",
              "\n",
              "    [theme=dark] .colab-df-convert:hover {\n",
              "      background-color: #434B5C;\n",
              "      box-shadow: 0px 1px 3px 1px rgba(0, 0, 0, 0.15);\n",
              "      filter: drop-shadow(0px 1px 2px rgba(0, 0, 0, 0.3));\n",
              "      fill: #FFFFFF;\n",
              "    }\n",
              "  </style>\n",
              "\n",
              "      <script>\n",
              "        const buttonEl =\n",
              "          document.querySelector('#df-3bec1e29-978e-49e3-9b43-6c6b1e34e199 button.colab-df-convert');\n",
              "        buttonEl.style.display =\n",
              "          google.colab.kernel.accessAllowed ? 'block' : 'none';\n",
              "\n",
              "        async function convertToInteractive(key) {\n",
              "          const element = document.querySelector('#df-3bec1e29-978e-49e3-9b43-6c6b1e34e199');\n",
              "          const dataTable =\n",
              "            await google.colab.kernel.invokeFunction('convertToInteractive',\n",
              "                                                     [key], {});\n",
              "          if (!dataTable) return;\n",
              "\n",
              "          const docLinkHtml = 'Like what you see? Visit the ' +\n",
              "            '<a target=\"_blank\" href=https://colab.research.google.com/notebooks/data_table.ipynb>data table notebook</a>'\n",
              "            + ' to learn more about interactive tables.';\n",
              "          element.innerHTML = '';\n",
              "          dataTable['output_type'] = 'display_data';\n",
              "          await google.colab.output.renderOutput(dataTable, element);\n",
              "          const docLink = document.createElement('div');\n",
              "          docLink.innerHTML = docLinkHtml;\n",
              "          element.appendChild(docLink);\n",
              "        }\n",
              "      </script>\n",
              "    </div>\n",
              "  </div>\n",
              "  "
            ],
            "text/plain": [
              "       AT      AP      AH     TEY    AFDP    GTEP\n",
              "0  4.5878  1018.7  83.675  134.67  3.5758  23.979\n",
              "1  4.2932  1018.3  84.235  134.67  3.5709  23.951\n",
              "2  3.9045  1018.4  84.858  135.10  3.5828  23.990\n",
              "3  3.7436  1018.3  85.434  135.03  3.5808  23.911\n",
              "4  3.7516  1017.8  85.182  134.67  3.5781  23.917"
            ]
          },
          "metadata": {},
          "execution_count": 46
        }
      ]
    },
    {
      "cell_type": "code",
      "source": [
        "train=dataset[0:21947]\n",
        "test=dataset[21947:36733]"
      ],
      "metadata": {
        "id": "HxwzQiVcT35H"
      },
      "execution_count": 47,
      "outputs": []
    },
    {
      "cell_type": "code",
      "source": [
        "scaler = MinMaxScaler(feature_range=(0, 1))\n",
        "scaled_train = scaler.fit_transform(train)\n",
        "scaled_test=scaler.transform(test)"
      ],
      "metadata": {
        "id": "7XVyr9PvWHhj"
      },
      "execution_count": 48,
      "outputs": []
    },
    {
      "cell_type": "code",
      "source": [
        "train_x=scaled_train[:,[0,1,2,3,4]]\n",
        "train_y=scaled_train[:,[5]]\n",
        "test_x=scaled_test[:,[0,1,2,3,4]]\n",
        "test_y=scaled_test[:,[5]]"
      ],
      "metadata": {
        "id": "xRZx6mbwXBEE"
      },
      "execution_count": 49,
      "outputs": []
    },
    {
      "cell_type": "code",
      "source": [
        "clf = Ridge(alpha=0.05)\n",
        "clf.fit(train_x, train_y)"
      ],
      "metadata": {
        "colab": {
          "base_uri": "https://localhost:8080/"
        },
        "id": "hBgwe7FkZkmV",
        "outputId": "eb3d2b29-ff48-4f0d-cf75-0295c29f3852"
      },
      "execution_count": 50,
      "outputs": [
        {
          "output_type": "execute_result",
          "data": {
            "text/plain": [
              "Ridge(alpha=0.05)"
            ]
          },
          "metadata": {},
          "execution_count": 50
        }
      ]
    },
    {
      "cell_type": "code",
      "source": [
        "y_pred=clf.predict(test_x)\n",
        "arr1 = np.append(test_x, y_pred, axis=1)\n",
        "inv_arr1 = scaler.inverse_transform(arr1)\n",
        "iny_pred=inv_arr1[:,[5]]\n",
        "arr2=np.append(test_x,test_y,axis=1)\n",
        "inv_arr2=scaler.inverse_transform(arr2)\n",
        "iny_test=inv_arr2[:,[5]]\n",
        "print(r2_score(iny_test,iny_pred))"
      ],
      "metadata": {
        "colab": {
          "base_uri": "https://localhost:8080/"
        },
        "id": "jT4j1wYjYiDb",
        "outputId": "fab9c4e0-d046-4f51-bf5b-8b9102b227e2"
      },
      "execution_count": 51,
      "outputs": [
        {
          "output_type": "stream",
          "name": "stdout",
          "text": [
            "0.8835270723620201\n"
          ]
        }
      ]
    },
    {
      "cell_type": "markdown",
      "source": [
        "TIT"
      ],
      "metadata": {
        "id": "RayEyiCAZ4kk"
      }
    },
    {
      "cell_type": "code",
      "source": [
        "dataset=df[['AT','AP','AH','TEY','AFDP','TIT']]\n",
        "dataset.head()"
      ],
      "metadata": {
        "colab": {
          "base_uri": "https://localhost:8080/",
          "height": 206
        },
        "id": "Ak7qOfPvYEfc",
        "outputId": "691427be-de21-4282-bcd4-e4c5547239f4"
      },
      "execution_count": 52,
      "outputs": [
        {
          "output_type": "execute_result",
          "data": {
            "text/html": [
              "\n",
              "  <div id=\"df-e7a08238-bd1c-4c18-a1ad-b8690878cba0\">\n",
              "    <div class=\"colab-df-container\">\n",
              "      <div>\n",
              "<style scoped>\n",
              "    .dataframe tbody tr th:only-of-type {\n",
              "        vertical-align: middle;\n",
              "    }\n",
              "\n",
              "    .dataframe tbody tr th {\n",
              "        vertical-align: top;\n",
              "    }\n",
              "\n",
              "    .dataframe thead th {\n",
              "        text-align: right;\n",
              "    }\n",
              "</style>\n",
              "<table border=\"1\" class=\"dataframe\">\n",
              "  <thead>\n",
              "    <tr style=\"text-align: right;\">\n",
              "      <th></th>\n",
              "      <th>AT</th>\n",
              "      <th>AP</th>\n",
              "      <th>AH</th>\n",
              "      <th>TEY</th>\n",
              "      <th>AFDP</th>\n",
              "      <th>TIT</th>\n",
              "    </tr>\n",
              "  </thead>\n",
              "  <tbody>\n",
              "    <tr>\n",
              "      <th>0</th>\n",
              "      <td>4.5878</td>\n",
              "      <td>1018.7</td>\n",
              "      <td>83.675</td>\n",
              "      <td>134.67</td>\n",
              "      <td>3.5758</td>\n",
              "      <td>1086.2</td>\n",
              "    </tr>\n",
              "    <tr>\n",
              "      <th>1</th>\n",
              "      <td>4.2932</td>\n",
              "      <td>1018.3</td>\n",
              "      <td>84.235</td>\n",
              "      <td>134.67</td>\n",
              "      <td>3.5709</td>\n",
              "      <td>1086.1</td>\n",
              "    </tr>\n",
              "    <tr>\n",
              "      <th>2</th>\n",
              "      <td>3.9045</td>\n",
              "      <td>1018.4</td>\n",
              "      <td>84.858</td>\n",
              "      <td>135.10</td>\n",
              "      <td>3.5828</td>\n",
              "      <td>1086.5</td>\n",
              "    </tr>\n",
              "    <tr>\n",
              "      <th>3</th>\n",
              "      <td>3.7436</td>\n",
              "      <td>1018.3</td>\n",
              "      <td>85.434</td>\n",
              "      <td>135.03</td>\n",
              "      <td>3.5808</td>\n",
              "      <td>1086.5</td>\n",
              "    </tr>\n",
              "    <tr>\n",
              "      <th>4</th>\n",
              "      <td>3.7516</td>\n",
              "      <td>1017.8</td>\n",
              "      <td>85.182</td>\n",
              "      <td>134.67</td>\n",
              "      <td>3.5781</td>\n",
              "      <td>1085.9</td>\n",
              "    </tr>\n",
              "  </tbody>\n",
              "</table>\n",
              "</div>\n",
              "      <button class=\"colab-df-convert\" onclick=\"convertToInteractive('df-e7a08238-bd1c-4c18-a1ad-b8690878cba0')\"\n",
              "              title=\"Convert this dataframe to an interactive table.\"\n",
              "              style=\"display:none;\">\n",
              "        \n",
              "  <svg xmlns=\"http://www.w3.org/2000/svg\" height=\"24px\"viewBox=\"0 0 24 24\"\n",
              "       width=\"24px\">\n",
              "    <path d=\"M0 0h24v24H0V0z\" fill=\"none\"/>\n",
              "    <path d=\"M18.56 5.44l.94 2.06.94-2.06 2.06-.94-2.06-.94-.94-2.06-.94 2.06-2.06.94zm-11 1L8.5 8.5l.94-2.06 2.06-.94-2.06-.94L8.5 2.5l-.94 2.06-2.06.94zm10 10l.94 2.06.94-2.06 2.06-.94-2.06-.94-.94-2.06-.94 2.06-2.06.94z\"/><path d=\"M17.41 7.96l-1.37-1.37c-.4-.4-.92-.59-1.43-.59-.52 0-1.04.2-1.43.59L10.3 9.45l-7.72 7.72c-.78.78-.78 2.05 0 2.83L4 21.41c.39.39.9.59 1.41.59.51 0 1.02-.2 1.41-.59l7.78-7.78 2.81-2.81c.8-.78.8-2.07 0-2.86zM5.41 20L4 18.59l7.72-7.72 1.47 1.35L5.41 20z\"/>\n",
              "  </svg>\n",
              "      </button>\n",
              "      \n",
              "  <style>\n",
              "    .colab-df-container {\n",
              "      display:flex;\n",
              "      flex-wrap:wrap;\n",
              "      gap: 12px;\n",
              "    }\n",
              "\n",
              "    .colab-df-convert {\n",
              "      background-color: #E8F0FE;\n",
              "      border: none;\n",
              "      border-radius: 50%;\n",
              "      cursor: pointer;\n",
              "      display: none;\n",
              "      fill: #1967D2;\n",
              "      height: 32px;\n",
              "      padding: 0 0 0 0;\n",
              "      width: 32px;\n",
              "    }\n",
              "\n",
              "    .colab-df-convert:hover {\n",
              "      background-color: #E2EBFA;\n",
              "      box-shadow: 0px 1px 2px rgba(60, 64, 67, 0.3), 0px 1px 3px 1px rgba(60, 64, 67, 0.15);\n",
              "      fill: #174EA6;\n",
              "    }\n",
              "\n",
              "    [theme=dark] .colab-df-convert {\n",
              "      background-color: #3B4455;\n",
              "      fill: #D2E3FC;\n",
              "    }\n",
              "\n",
              "    [theme=dark] .colab-df-convert:hover {\n",
              "      background-color: #434B5C;\n",
              "      box-shadow: 0px 1px 3px 1px rgba(0, 0, 0, 0.15);\n",
              "      filter: drop-shadow(0px 1px 2px rgba(0, 0, 0, 0.3));\n",
              "      fill: #FFFFFF;\n",
              "    }\n",
              "  </style>\n",
              "\n",
              "      <script>\n",
              "        const buttonEl =\n",
              "          document.querySelector('#df-e7a08238-bd1c-4c18-a1ad-b8690878cba0 button.colab-df-convert');\n",
              "        buttonEl.style.display =\n",
              "          google.colab.kernel.accessAllowed ? 'block' : 'none';\n",
              "\n",
              "        async function convertToInteractive(key) {\n",
              "          const element = document.querySelector('#df-e7a08238-bd1c-4c18-a1ad-b8690878cba0');\n",
              "          const dataTable =\n",
              "            await google.colab.kernel.invokeFunction('convertToInteractive',\n",
              "                                                     [key], {});\n",
              "          if (!dataTable) return;\n",
              "\n",
              "          const docLinkHtml = 'Like what you see? Visit the ' +\n",
              "            '<a target=\"_blank\" href=https://colab.research.google.com/notebooks/data_table.ipynb>data table notebook</a>'\n",
              "            + ' to learn more about interactive tables.';\n",
              "          element.innerHTML = '';\n",
              "          dataTable['output_type'] = 'display_data';\n",
              "          await google.colab.output.renderOutput(dataTable, element);\n",
              "          const docLink = document.createElement('div');\n",
              "          docLink.innerHTML = docLinkHtml;\n",
              "          element.appendChild(docLink);\n",
              "        }\n",
              "      </script>\n",
              "    </div>\n",
              "  </div>\n",
              "  "
            ],
            "text/plain": [
              "       AT      AP      AH     TEY    AFDP     TIT\n",
              "0  4.5878  1018.7  83.675  134.67  3.5758  1086.2\n",
              "1  4.2932  1018.3  84.235  134.67  3.5709  1086.1\n",
              "2  3.9045  1018.4  84.858  135.10  3.5828  1086.5\n",
              "3  3.7436  1018.3  85.434  135.03  3.5808  1086.5\n",
              "4  3.7516  1017.8  85.182  134.67  3.5781  1085.9"
            ]
          },
          "metadata": {},
          "execution_count": 52
        }
      ]
    },
    {
      "cell_type": "code",
      "source": [
        "train=dataset[0:21947]\n",
        "test=dataset[21947:36733]"
      ],
      "metadata": {
        "id": "2kZ0s-rdZ8ya"
      },
      "execution_count": 53,
      "outputs": []
    },
    {
      "cell_type": "code",
      "source": [
        "scaler = MinMaxScaler(feature_range=(0, 1))\n",
        "scaled_train = scaler.fit_transform(train)\n",
        "scaled_test=scaler.transform(test)"
      ],
      "metadata": {
        "id": "g0t917zJZ_gs"
      },
      "execution_count": 54,
      "outputs": []
    },
    {
      "cell_type": "code",
      "source": [
        "train_x=scaled_train[:,[0,1,2,3,4]]\n",
        "train_y=scaled_train[:,[5]]\n",
        "test_x=scaled_test[:,[0,1,2,3,4]]\n",
        "test_y=scaled_test[:,[5]]"
      ],
      "metadata": {
        "id": "CUt98WOfaB9B"
      },
      "execution_count": 55,
      "outputs": []
    },
    {
      "cell_type": "code",
      "source": [
        "clf = Ridge(alpha=0.05)\n",
        "clf.fit(train_x, train_y)"
      ],
      "metadata": {
        "colab": {
          "base_uri": "https://localhost:8080/"
        },
        "id": "0WSnn_oLaEUg",
        "outputId": "0a970ef2-4ac7-47b9-bdd3-d76be1bb9525"
      },
      "execution_count": 56,
      "outputs": [
        {
          "output_type": "execute_result",
          "data": {
            "text/plain": [
              "Ridge(alpha=0.05)"
            ]
          },
          "metadata": {},
          "execution_count": 56
        }
      ]
    },
    {
      "cell_type": "code",
      "source": [
        "y_pred=clf.predict(test_x)\n",
        "arr1 = np.append(test_x, y_pred, axis=1)\n",
        "inv_arr1 = scaler.inverse_transform(arr1)\n",
        "iny_pred=inv_arr1[:,[5]]\n",
        "arr2=np.append(test_x,test_y,axis=1)\n",
        "inv_arr2=scaler.inverse_transform(arr2)\n",
        "iny_test=inv_arr2[:,[5]]\n",
        "print(r2_score(iny_test,iny_pred))"
      ],
      "metadata": {
        "colab": {
          "base_uri": "https://localhost:8080/"
        },
        "id": "x8LJWv7WaGjZ",
        "outputId": "1e2de460-7c97-40c7-dffc-bdea2a6b8504"
      },
      "execution_count": 57,
      "outputs": [
        {
          "output_type": "stream",
          "name": "stdout",
          "text": [
            "0.8852459822260531\n"
          ]
        }
      ]
    },
    {
      "cell_type": "markdown",
      "source": [
        "TAT"
      ],
      "metadata": {
        "id": "g2L_n_4kaN7W"
      }
    },
    {
      "cell_type": "code",
      "source": [
        "dataset=df[['AT','AP','AH','TEY','AFDP','TAT']]\n",
        "dataset.head()"
      ],
      "metadata": {
        "colab": {
          "base_uri": "https://localhost:8080/",
          "height": 206
        },
        "id": "YQzfXNZDaIzZ",
        "outputId": "62b61064-3f4d-4b9d-8765-0f609ff252a0"
      },
      "execution_count": 58,
      "outputs": [
        {
          "output_type": "execute_result",
          "data": {
            "text/html": [
              "\n",
              "  <div id=\"df-5102b8ee-16cb-4bf4-9bd6-868e8b78d781\">\n",
              "    <div class=\"colab-df-container\">\n",
              "      <div>\n",
              "<style scoped>\n",
              "    .dataframe tbody tr th:only-of-type {\n",
              "        vertical-align: middle;\n",
              "    }\n",
              "\n",
              "    .dataframe tbody tr th {\n",
              "        vertical-align: top;\n",
              "    }\n",
              "\n",
              "    .dataframe thead th {\n",
              "        text-align: right;\n",
              "    }\n",
              "</style>\n",
              "<table border=\"1\" class=\"dataframe\">\n",
              "  <thead>\n",
              "    <tr style=\"text-align: right;\">\n",
              "      <th></th>\n",
              "      <th>AT</th>\n",
              "      <th>AP</th>\n",
              "      <th>AH</th>\n",
              "      <th>TEY</th>\n",
              "      <th>AFDP</th>\n",
              "      <th>TAT</th>\n",
              "    </tr>\n",
              "  </thead>\n",
              "  <tbody>\n",
              "    <tr>\n",
              "      <th>0</th>\n",
              "      <td>4.5878</td>\n",
              "      <td>1018.7</td>\n",
              "      <td>83.675</td>\n",
              "      <td>134.67</td>\n",
              "      <td>3.5758</td>\n",
              "      <td>549.83</td>\n",
              "    </tr>\n",
              "    <tr>\n",
              "      <th>1</th>\n",
              "      <td>4.2932</td>\n",
              "      <td>1018.3</td>\n",
              "      <td>84.235</td>\n",
              "      <td>134.67</td>\n",
              "      <td>3.5709</td>\n",
              "      <td>550.05</td>\n",
              "    </tr>\n",
              "    <tr>\n",
              "      <th>2</th>\n",
              "      <td>3.9045</td>\n",
              "      <td>1018.4</td>\n",
              "      <td>84.858</td>\n",
              "      <td>135.10</td>\n",
              "      <td>3.5828</td>\n",
              "      <td>550.19</td>\n",
              "    </tr>\n",
              "    <tr>\n",
              "      <th>3</th>\n",
              "      <td>3.7436</td>\n",
              "      <td>1018.3</td>\n",
              "      <td>85.434</td>\n",
              "      <td>135.03</td>\n",
              "      <td>3.5808</td>\n",
              "      <td>550.17</td>\n",
              "    </tr>\n",
              "    <tr>\n",
              "      <th>4</th>\n",
              "      <td>3.7516</td>\n",
              "      <td>1017.8</td>\n",
              "      <td>85.182</td>\n",
              "      <td>134.67</td>\n",
              "      <td>3.5781</td>\n",
              "      <td>550.00</td>\n",
              "    </tr>\n",
              "  </tbody>\n",
              "</table>\n",
              "</div>\n",
              "      <button class=\"colab-df-convert\" onclick=\"convertToInteractive('df-5102b8ee-16cb-4bf4-9bd6-868e8b78d781')\"\n",
              "              title=\"Convert this dataframe to an interactive table.\"\n",
              "              style=\"display:none;\">\n",
              "        \n",
              "  <svg xmlns=\"http://www.w3.org/2000/svg\" height=\"24px\"viewBox=\"0 0 24 24\"\n",
              "       width=\"24px\">\n",
              "    <path d=\"M0 0h24v24H0V0z\" fill=\"none\"/>\n",
              "    <path d=\"M18.56 5.44l.94 2.06.94-2.06 2.06-.94-2.06-.94-.94-2.06-.94 2.06-2.06.94zm-11 1L8.5 8.5l.94-2.06 2.06-.94-2.06-.94L8.5 2.5l-.94 2.06-2.06.94zm10 10l.94 2.06.94-2.06 2.06-.94-2.06-.94-.94-2.06-.94 2.06-2.06.94z\"/><path d=\"M17.41 7.96l-1.37-1.37c-.4-.4-.92-.59-1.43-.59-.52 0-1.04.2-1.43.59L10.3 9.45l-7.72 7.72c-.78.78-.78 2.05 0 2.83L4 21.41c.39.39.9.59 1.41.59.51 0 1.02-.2 1.41-.59l7.78-7.78 2.81-2.81c.8-.78.8-2.07 0-2.86zM5.41 20L4 18.59l7.72-7.72 1.47 1.35L5.41 20z\"/>\n",
              "  </svg>\n",
              "      </button>\n",
              "      \n",
              "  <style>\n",
              "    .colab-df-container {\n",
              "      display:flex;\n",
              "      flex-wrap:wrap;\n",
              "      gap: 12px;\n",
              "    }\n",
              "\n",
              "    .colab-df-convert {\n",
              "      background-color: #E8F0FE;\n",
              "      border: none;\n",
              "      border-radius: 50%;\n",
              "      cursor: pointer;\n",
              "      display: none;\n",
              "      fill: #1967D2;\n",
              "      height: 32px;\n",
              "      padding: 0 0 0 0;\n",
              "      width: 32px;\n",
              "    }\n",
              "\n",
              "    .colab-df-convert:hover {\n",
              "      background-color: #E2EBFA;\n",
              "      box-shadow: 0px 1px 2px rgba(60, 64, 67, 0.3), 0px 1px 3px 1px rgba(60, 64, 67, 0.15);\n",
              "      fill: #174EA6;\n",
              "    }\n",
              "\n",
              "    [theme=dark] .colab-df-convert {\n",
              "      background-color: #3B4455;\n",
              "      fill: #D2E3FC;\n",
              "    }\n",
              "\n",
              "    [theme=dark] .colab-df-convert:hover {\n",
              "      background-color: #434B5C;\n",
              "      box-shadow: 0px 1px 3px 1px rgba(0, 0, 0, 0.15);\n",
              "      filter: drop-shadow(0px 1px 2px rgba(0, 0, 0, 0.3));\n",
              "      fill: #FFFFFF;\n",
              "    }\n",
              "  </style>\n",
              "\n",
              "      <script>\n",
              "        const buttonEl =\n",
              "          document.querySelector('#df-5102b8ee-16cb-4bf4-9bd6-868e8b78d781 button.colab-df-convert');\n",
              "        buttonEl.style.display =\n",
              "          google.colab.kernel.accessAllowed ? 'block' : 'none';\n",
              "\n",
              "        async function convertToInteractive(key) {\n",
              "          const element = document.querySelector('#df-5102b8ee-16cb-4bf4-9bd6-868e8b78d781');\n",
              "          const dataTable =\n",
              "            await google.colab.kernel.invokeFunction('convertToInteractive',\n",
              "                                                     [key], {});\n",
              "          if (!dataTable) return;\n",
              "\n",
              "          const docLinkHtml = 'Like what you see? Visit the ' +\n",
              "            '<a target=\"_blank\" href=https://colab.research.google.com/notebooks/data_table.ipynb>data table notebook</a>'\n",
              "            + ' to learn more about interactive tables.';\n",
              "          element.innerHTML = '';\n",
              "          dataTable['output_type'] = 'display_data';\n",
              "          await google.colab.output.renderOutput(dataTable, element);\n",
              "          const docLink = document.createElement('div');\n",
              "          docLink.innerHTML = docLinkHtml;\n",
              "          element.appendChild(docLink);\n",
              "        }\n",
              "      </script>\n",
              "    </div>\n",
              "  </div>\n",
              "  "
            ],
            "text/plain": [
              "       AT      AP      AH     TEY    AFDP     TAT\n",
              "0  4.5878  1018.7  83.675  134.67  3.5758  549.83\n",
              "1  4.2932  1018.3  84.235  134.67  3.5709  550.05\n",
              "2  3.9045  1018.4  84.858  135.10  3.5828  550.19\n",
              "3  3.7436  1018.3  85.434  135.03  3.5808  550.17\n",
              "4  3.7516  1017.8  85.182  134.67  3.5781  550.00"
            ]
          },
          "metadata": {},
          "execution_count": 58
        }
      ]
    },
    {
      "cell_type": "code",
      "source": [
        "train=dataset[0:21947]\n",
        "test=dataset[21947:36733]"
      ],
      "metadata": {
        "id": "cexY7i9NaSgl"
      },
      "execution_count": 59,
      "outputs": []
    },
    {
      "cell_type": "code",
      "source": [
        "scaler = MinMaxScaler(feature_range=(0, 1))\n",
        "scaled_train = scaler.fit_transform(train)\n",
        "scaled_test=scaler.transform(test)\n",
        "train_x=scaled_train[:,[0,1,2,3,4]]\n",
        "train_y=scaled_train[:,[5]]\n",
        "test_x=scaled_test[:,[0,1,2,3,4]]\n",
        "test_y=scaled_test[:,[5]]\n",
        "\n",
        "clf = Ridge(alpha=0.05)\n",
        "clf.fit(train_x, train_y)\n",
        "\n",
        "y_pred=clf.predict(test_x)\n",
        "arr1 = np.append(test_x, y_pred, axis=1)\n",
        "inv_arr1 = scaler.inverse_transform(arr1)\n",
        "iny_pred=inv_arr1[:,[5]]\n",
        "arr2=np.append(test_x,test_y,axis=1)\n",
        "inv_arr2=scaler.inverse_transform(arr2)\n",
        "iny_test=inv_arr2[:,[5]]\n",
        "print(r2_score(iny_test,iny_pred))"
      ],
      "metadata": {
        "colab": {
          "base_uri": "https://localhost:8080/"
        },
        "id": "-_p-CI4vaU1Y",
        "outputId": "f62f7223-5f28-4d12-dd41-4aae940a79c7"
      },
      "execution_count": 60,
      "outputs": [
        {
          "output_type": "stream",
          "name": "stdout",
          "text": [
            "0.3894218787702921\n"
          ]
        }
      ]
    },
    {
      "cell_type": "markdown",
      "source": [
        "CDP"
      ],
      "metadata": {
        "id": "sMNweYbcagYn"
      }
    },
    {
      "cell_type": "code",
      "source": [
        "dataset=df[['AT','AP','AH','TEY','AFDP','CDP']]\n",
        "dataset.head()"
      ],
      "metadata": {
        "colab": {
          "base_uri": "https://localhost:8080/",
          "height": 206
        },
        "id": "swWv17RNaewi",
        "outputId": "47a166e3-5871-4f8b-cfd9-09c89a48cb7e"
      },
      "execution_count": 61,
      "outputs": [
        {
          "output_type": "execute_result",
          "data": {
            "text/html": [
              "\n",
              "  <div id=\"df-e7c5cf92-e286-413c-a0f1-459eaf588019\">\n",
              "    <div class=\"colab-df-container\">\n",
              "      <div>\n",
              "<style scoped>\n",
              "    .dataframe tbody tr th:only-of-type {\n",
              "        vertical-align: middle;\n",
              "    }\n",
              "\n",
              "    .dataframe tbody tr th {\n",
              "        vertical-align: top;\n",
              "    }\n",
              "\n",
              "    .dataframe thead th {\n",
              "        text-align: right;\n",
              "    }\n",
              "</style>\n",
              "<table border=\"1\" class=\"dataframe\">\n",
              "  <thead>\n",
              "    <tr style=\"text-align: right;\">\n",
              "      <th></th>\n",
              "      <th>AT</th>\n",
              "      <th>AP</th>\n",
              "      <th>AH</th>\n",
              "      <th>TEY</th>\n",
              "      <th>AFDP</th>\n",
              "      <th>CDP</th>\n",
              "    </tr>\n",
              "  </thead>\n",
              "  <tbody>\n",
              "    <tr>\n",
              "      <th>0</th>\n",
              "      <td>4.5878</td>\n",
              "      <td>1018.7</td>\n",
              "      <td>83.675</td>\n",
              "      <td>134.67</td>\n",
              "      <td>3.5758</td>\n",
              "      <td>11.898</td>\n",
              "    </tr>\n",
              "    <tr>\n",
              "      <th>1</th>\n",
              "      <td>4.2932</td>\n",
              "      <td>1018.3</td>\n",
              "      <td>84.235</td>\n",
              "      <td>134.67</td>\n",
              "      <td>3.5709</td>\n",
              "      <td>11.892</td>\n",
              "    </tr>\n",
              "    <tr>\n",
              "      <th>2</th>\n",
              "      <td>3.9045</td>\n",
              "      <td>1018.4</td>\n",
              "      <td>84.858</td>\n",
              "      <td>135.10</td>\n",
              "      <td>3.5828</td>\n",
              "      <td>12.042</td>\n",
              "    </tr>\n",
              "    <tr>\n",
              "      <th>3</th>\n",
              "      <td>3.7436</td>\n",
              "      <td>1018.3</td>\n",
              "      <td>85.434</td>\n",
              "      <td>135.03</td>\n",
              "      <td>3.5808</td>\n",
              "      <td>11.990</td>\n",
              "    </tr>\n",
              "    <tr>\n",
              "      <th>4</th>\n",
              "      <td>3.7516</td>\n",
              "      <td>1017.8</td>\n",
              "      <td>85.182</td>\n",
              "      <td>134.67</td>\n",
              "      <td>3.5781</td>\n",
              "      <td>11.910</td>\n",
              "    </tr>\n",
              "  </tbody>\n",
              "</table>\n",
              "</div>\n",
              "      <button class=\"colab-df-convert\" onclick=\"convertToInteractive('df-e7c5cf92-e286-413c-a0f1-459eaf588019')\"\n",
              "              title=\"Convert this dataframe to an interactive table.\"\n",
              "              style=\"display:none;\">\n",
              "        \n",
              "  <svg xmlns=\"http://www.w3.org/2000/svg\" height=\"24px\"viewBox=\"0 0 24 24\"\n",
              "       width=\"24px\">\n",
              "    <path d=\"M0 0h24v24H0V0z\" fill=\"none\"/>\n",
              "    <path d=\"M18.56 5.44l.94 2.06.94-2.06 2.06-.94-2.06-.94-.94-2.06-.94 2.06-2.06.94zm-11 1L8.5 8.5l.94-2.06 2.06-.94-2.06-.94L8.5 2.5l-.94 2.06-2.06.94zm10 10l.94 2.06.94-2.06 2.06-.94-2.06-.94-.94-2.06-.94 2.06-2.06.94z\"/><path d=\"M17.41 7.96l-1.37-1.37c-.4-.4-.92-.59-1.43-.59-.52 0-1.04.2-1.43.59L10.3 9.45l-7.72 7.72c-.78.78-.78 2.05 0 2.83L4 21.41c.39.39.9.59 1.41.59.51 0 1.02-.2 1.41-.59l7.78-7.78 2.81-2.81c.8-.78.8-2.07 0-2.86zM5.41 20L4 18.59l7.72-7.72 1.47 1.35L5.41 20z\"/>\n",
              "  </svg>\n",
              "      </button>\n",
              "      \n",
              "  <style>\n",
              "    .colab-df-container {\n",
              "      display:flex;\n",
              "      flex-wrap:wrap;\n",
              "      gap: 12px;\n",
              "    }\n",
              "\n",
              "    .colab-df-convert {\n",
              "      background-color: #E8F0FE;\n",
              "      border: none;\n",
              "      border-radius: 50%;\n",
              "      cursor: pointer;\n",
              "      display: none;\n",
              "      fill: #1967D2;\n",
              "      height: 32px;\n",
              "      padding: 0 0 0 0;\n",
              "      width: 32px;\n",
              "    }\n",
              "\n",
              "    .colab-df-convert:hover {\n",
              "      background-color: #E2EBFA;\n",
              "      box-shadow: 0px 1px 2px rgba(60, 64, 67, 0.3), 0px 1px 3px 1px rgba(60, 64, 67, 0.15);\n",
              "      fill: #174EA6;\n",
              "    }\n",
              "\n",
              "    [theme=dark] .colab-df-convert {\n",
              "      background-color: #3B4455;\n",
              "      fill: #D2E3FC;\n",
              "    }\n",
              "\n",
              "    [theme=dark] .colab-df-convert:hover {\n",
              "      background-color: #434B5C;\n",
              "      box-shadow: 0px 1px 3px 1px rgba(0, 0, 0, 0.15);\n",
              "      filter: drop-shadow(0px 1px 2px rgba(0, 0, 0, 0.3));\n",
              "      fill: #FFFFFF;\n",
              "    }\n",
              "  </style>\n",
              "\n",
              "      <script>\n",
              "        const buttonEl =\n",
              "          document.querySelector('#df-e7c5cf92-e286-413c-a0f1-459eaf588019 button.colab-df-convert');\n",
              "        buttonEl.style.display =\n",
              "          google.colab.kernel.accessAllowed ? 'block' : 'none';\n",
              "\n",
              "        async function convertToInteractive(key) {\n",
              "          const element = document.querySelector('#df-e7c5cf92-e286-413c-a0f1-459eaf588019');\n",
              "          const dataTable =\n",
              "            await google.colab.kernel.invokeFunction('convertToInteractive',\n",
              "                                                     [key], {});\n",
              "          if (!dataTable) return;\n",
              "\n",
              "          const docLinkHtml = 'Like what you see? Visit the ' +\n",
              "            '<a target=\"_blank\" href=https://colab.research.google.com/notebooks/data_table.ipynb>data table notebook</a>'\n",
              "            + ' to learn more about interactive tables.';\n",
              "          element.innerHTML = '';\n",
              "          dataTable['output_type'] = 'display_data';\n",
              "          await google.colab.output.renderOutput(dataTable, element);\n",
              "          const docLink = document.createElement('div');\n",
              "          docLink.innerHTML = docLinkHtml;\n",
              "          element.appendChild(docLink);\n",
              "        }\n",
              "      </script>\n",
              "    </div>\n",
              "  </div>\n",
              "  "
            ],
            "text/plain": [
              "       AT      AP      AH     TEY    AFDP     CDP\n",
              "0  4.5878  1018.7  83.675  134.67  3.5758  11.898\n",
              "1  4.2932  1018.3  84.235  134.67  3.5709  11.892\n",
              "2  3.9045  1018.4  84.858  135.10  3.5828  12.042\n",
              "3  3.7436  1018.3  85.434  135.03  3.5808  11.990\n",
              "4  3.7516  1017.8  85.182  134.67  3.5781  11.910"
            ]
          },
          "metadata": {},
          "execution_count": 61
        }
      ]
    },
    {
      "cell_type": "code",
      "source": [
        "train=dataset[0:21947]\n",
        "test=dataset[21947:36733]"
      ],
      "metadata": {
        "id": "dhIUmSewamd-"
      },
      "execution_count": 64,
      "outputs": []
    },
    {
      "cell_type": "code",
      "source": [
        "scaler = MinMaxScaler(feature_range=(0, 1))\n",
        "scaled_train = scaler.fit_transform(train)\n",
        "scaled_test=scaler.transform(test)\n",
        "train_x=scaled_train[:,[0,1,2,3,4]]\n",
        "train_y=scaled_train[:,[5]]\n",
        "test_x=scaled_test[:,[0,1,2,3,4]]\n",
        "test_y=scaled_test[:,[5]]\n",
        "\n",
        "clf = Ridge(alpha=0.05)\n",
        "clf.fit(train_x, train_y)\n",
        "\n",
        "y_pred=clf.predict(test_x)\n",
        "arr1 = np.append(test_x, y_pred, axis=1)\n",
        "inv_arr1 = scaler.inverse_transform(arr1)\n",
        "iny_pred=inv_arr1[:,[5]]\n",
        "arr2=np.append(test_x,test_y,axis=1)\n",
        "inv_arr2=scaler.inverse_transform(arr2)\n",
        "iny_test=inv_arr2[:,[5]]\n",
        "print(r2_score(iny_test,iny_pred))"
      ],
      "metadata": {
        "colab": {
          "base_uri": "https://localhost:8080/"
        },
        "id": "oD2acNSJapEV",
        "outputId": "11d37f13-70b5-48a2-9b26-c2948659e7fe"
      },
      "execution_count": 65,
      "outputs": [
        {
          "output_type": "stream",
          "name": "stdout",
          "text": [
            "0.990274240730835\n"
          ]
        }
      ]
    },
    {
      "cell_type": "code",
      "source": [
        ""
      ],
      "metadata": {
        "id": "es9adiKjar0d"
      },
      "execution_count": null,
      "outputs": []
    }
  ]
}