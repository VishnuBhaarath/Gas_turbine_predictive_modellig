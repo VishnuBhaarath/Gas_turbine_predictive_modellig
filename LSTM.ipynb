{
  "nbformat": 4,
  "nbformat_minor": 0,
  "metadata": {
    "colab": {
      "name": "LSTM.ipynb",
      "provenance": [],
      "authorship_tag": "ABX9TyNLUde9kZ3G5TPxF8eeewA9",
      "include_colab_link": true
    },
    "kernelspec": {
      "name": "python3",
      "display_name": "Python 3"
    },
    "language_info": {
      "name": "python"
    }
  },
  "cells": [
    {
      "cell_type": "markdown",
      "metadata": {
        "id": "view-in-github",
        "colab_type": "text"
      },
      "source": [
        "<a href=\"https://colab.research.google.com/github/VishnuBhaarath/Gas_turbine_predictive_modelling/blob/main/LSTM.ipynb\" target=\"_parent\"><img src=\"https://colab.research.google.com/assets/colab-badge.svg\" alt=\"Open In Colab\"/></a>"
      ]
    },
    {
      "cell_type": "code",
      "execution_count": 79,
      "metadata": {
        "colab": {
          "base_uri": "https://localhost:8080/"
        },
        "id": "0jfe5yQ8pdNW",
        "outputId": "2df0d28f-c05d-4ad4-8540-28583edc242e"
      },
      "outputs": [
        {
          "output_type": "stream",
          "name": "stdout",
          "text": [
            "Drive already mounted at /content/drive; to attempt to forcibly remount, call drive.mount(\"/content/drive\", force_remount=True).\n"
          ]
        }
      ],
      "source": [
        "from google.colab import drive\n",
        "drive.mount('/content/drive')"
      ]
    },
    {
      "cell_type": "code",
      "source": [
        "from sklearn import linear_model\n",
        "import pandas as pd\n",
        "import numpy as np\n",
        "from sklearn.preprocessing import MinMaxScaler\n",
        "from sklearn.metrics import r2_score"
      ],
      "metadata": {
        "id": "_nHE8QMspiiU"
      },
      "execution_count": 80,
      "outputs": []
    },
    {
      "cell_type": "code",
      "source": [
        "import pandas as pd\n",
        "import numpy as np\n",
        "from pandas import concat\n",
        "from sklearn.preprocessing import LabelEncoder\n",
        "from sklearn.preprocessing import MinMaxScaler\n",
        "import matplotlib.pyplot as plt\n",
        "import plotly.express as px # to plot the time series plot\n",
        "from sklearn import metrics # for the evaluation\n",
        "from sklearn.preprocessing import LabelEncoder,MinMaxScaler\n",
        "from keras.models import Sequential\n",
        "import tensorflow as tf\n",
        "from keras.layers import concatenate\n",
        "from sklearn.metrics import r2_score\n",
        "from pandas import DataFrame\n",
        "from math import sqrt\n",
        "from numpy import concatenate\n",
        "from matplotlib import pyplot\n",
        "from pandas import read_csv\n",
        "from pandas import DataFrame\n",
        "from pandas import concat\n",
        "from sklearn.preprocessing import MinMaxScaler\n",
        "from sklearn.preprocessing import LabelEncoder\n",
        "from sklearn.metrics import mean_squared_error\n",
        "from keras.models import Sequential\n",
        "from keras.layers import Dense\n",
        "from keras.layers import LSTM\n",
        "from keras.layers import Flatten\n",
        "from tensorflow.python.keras.layers import Dense, LSTM\n",
        "from pandas import concat\n",
        "from tensorflow.python.keras.models import Sequential\n",
        "from keras.layers import Dense"
      ],
      "metadata": {
        "id": "qkWKHnzSqzOk"
      },
      "execution_count": 81,
      "outputs": []
    },
    {
      "cell_type": "markdown",
      "source": [
        ""
      ],
      "metadata": {
        "id": "Tfr8xO-rqljk"
      }
    },
    {
      "cell_type": "markdown",
      "source": [
        ""
      ],
      "metadata": {
        "id": "CCDs-Byaqlc9"
      }
    },
    {
      "cell_type": "code",
      "source": [
        "df=pd.read_csv('/content/drive/MyDrive/gas_turbine/gt_2011-2015.csv')\n",
        "df.head()"
      ],
      "metadata": {
        "colab": {
          "base_uri": "https://localhost:8080/",
          "height": 206
        },
        "id": "cGCYoadhp7hI",
        "outputId": "7acba76d-e43f-4fae-ec47-1135470b1144"
      },
      "execution_count": 83,
      "outputs": [
        {
          "output_type": "execute_result",
          "data": {
            "text/html": [
              "\n",
              "  <div id=\"df-4818acf7-ac64-4b2c-a021-6ca24f1bbab8\">\n",
              "    <div class=\"colab-df-container\">\n",
              "      <div>\n",
              "<style scoped>\n",
              "    .dataframe tbody tr th:only-of-type {\n",
              "        vertical-align: middle;\n",
              "    }\n",
              "\n",
              "    .dataframe tbody tr th {\n",
              "        vertical-align: top;\n",
              "    }\n",
              "\n",
              "    .dataframe thead th {\n",
              "        text-align: right;\n",
              "    }\n",
              "</style>\n",
              "<table border=\"1\" class=\"dataframe\">\n",
              "  <thead>\n",
              "    <tr style=\"text-align: right;\">\n",
              "      <th></th>\n",
              "      <th>Unnamed: 0</th>\n",
              "      <th>AT</th>\n",
              "      <th>AP</th>\n",
              "      <th>AH</th>\n",
              "      <th>AFDP</th>\n",
              "      <th>GTEP</th>\n",
              "      <th>TIT</th>\n",
              "      <th>TAT</th>\n",
              "      <th>TEY</th>\n",
              "      <th>CDP</th>\n",
              "      <th>CO</th>\n",
              "      <th>NOX</th>\n",
              "    </tr>\n",
              "  </thead>\n",
              "  <tbody>\n",
              "    <tr>\n",
              "      <th>0</th>\n",
              "      <td>0</td>\n",
              "      <td>4.5878</td>\n",
              "      <td>1018.7</td>\n",
              "      <td>83.675</td>\n",
              "      <td>3.5758</td>\n",
              "      <td>23.979</td>\n",
              "      <td>1086.2</td>\n",
              "      <td>549.83</td>\n",
              "      <td>134.67</td>\n",
              "      <td>11.898</td>\n",
              "      <td>0.32663</td>\n",
              "      <td>81.952</td>\n",
              "    </tr>\n",
              "    <tr>\n",
              "      <th>1</th>\n",
              "      <td>1</td>\n",
              "      <td>4.2932</td>\n",
              "      <td>1018.3</td>\n",
              "      <td>84.235</td>\n",
              "      <td>3.5709</td>\n",
              "      <td>23.951</td>\n",
              "      <td>1086.1</td>\n",
              "      <td>550.05</td>\n",
              "      <td>134.67</td>\n",
              "      <td>11.892</td>\n",
              "      <td>0.44784</td>\n",
              "      <td>82.377</td>\n",
              "    </tr>\n",
              "    <tr>\n",
              "      <th>2</th>\n",
              "      <td>2</td>\n",
              "      <td>3.9045</td>\n",
              "      <td>1018.4</td>\n",
              "      <td>84.858</td>\n",
              "      <td>3.5828</td>\n",
              "      <td>23.990</td>\n",
              "      <td>1086.5</td>\n",
              "      <td>550.19</td>\n",
              "      <td>135.10</td>\n",
              "      <td>12.042</td>\n",
              "      <td>0.45144</td>\n",
              "      <td>83.776</td>\n",
              "    </tr>\n",
              "    <tr>\n",
              "      <th>3</th>\n",
              "      <td>3</td>\n",
              "      <td>3.7436</td>\n",
              "      <td>1018.3</td>\n",
              "      <td>85.434</td>\n",
              "      <td>3.5808</td>\n",
              "      <td>23.911</td>\n",
              "      <td>1086.5</td>\n",
              "      <td>550.17</td>\n",
              "      <td>135.03</td>\n",
              "      <td>11.990</td>\n",
              "      <td>0.23107</td>\n",
              "      <td>82.505</td>\n",
              "    </tr>\n",
              "    <tr>\n",
              "      <th>4</th>\n",
              "      <td>4</td>\n",
              "      <td>3.7516</td>\n",
              "      <td>1017.8</td>\n",
              "      <td>85.182</td>\n",
              "      <td>3.5781</td>\n",
              "      <td>23.917</td>\n",
              "      <td>1085.9</td>\n",
              "      <td>550.00</td>\n",
              "      <td>134.67</td>\n",
              "      <td>11.910</td>\n",
              "      <td>0.26747</td>\n",
              "      <td>82.028</td>\n",
              "    </tr>\n",
              "  </tbody>\n",
              "</table>\n",
              "</div>\n",
              "      <button class=\"colab-df-convert\" onclick=\"convertToInteractive('df-4818acf7-ac64-4b2c-a021-6ca24f1bbab8')\"\n",
              "              title=\"Convert this dataframe to an interactive table.\"\n",
              "              style=\"display:none;\">\n",
              "        \n",
              "  <svg xmlns=\"http://www.w3.org/2000/svg\" height=\"24px\"viewBox=\"0 0 24 24\"\n",
              "       width=\"24px\">\n",
              "    <path d=\"M0 0h24v24H0V0z\" fill=\"none\"/>\n",
              "    <path d=\"M18.56 5.44l.94 2.06.94-2.06 2.06-.94-2.06-.94-.94-2.06-.94 2.06-2.06.94zm-11 1L8.5 8.5l.94-2.06 2.06-.94-2.06-.94L8.5 2.5l-.94 2.06-2.06.94zm10 10l.94 2.06.94-2.06 2.06-.94-2.06-.94-.94-2.06-.94 2.06-2.06.94z\"/><path d=\"M17.41 7.96l-1.37-1.37c-.4-.4-.92-.59-1.43-.59-.52 0-1.04.2-1.43.59L10.3 9.45l-7.72 7.72c-.78.78-.78 2.05 0 2.83L4 21.41c.39.39.9.59 1.41.59.51 0 1.02-.2 1.41-.59l7.78-7.78 2.81-2.81c.8-.78.8-2.07 0-2.86zM5.41 20L4 18.59l7.72-7.72 1.47 1.35L5.41 20z\"/>\n",
              "  </svg>\n",
              "      </button>\n",
              "      \n",
              "  <style>\n",
              "    .colab-df-container {\n",
              "      display:flex;\n",
              "      flex-wrap:wrap;\n",
              "      gap: 12px;\n",
              "    }\n",
              "\n",
              "    .colab-df-convert {\n",
              "      background-color: #E8F0FE;\n",
              "      border: none;\n",
              "      border-radius: 50%;\n",
              "      cursor: pointer;\n",
              "      display: none;\n",
              "      fill: #1967D2;\n",
              "      height: 32px;\n",
              "      padding: 0 0 0 0;\n",
              "      width: 32px;\n",
              "    }\n",
              "\n",
              "    .colab-df-convert:hover {\n",
              "      background-color: #E2EBFA;\n",
              "      box-shadow: 0px 1px 2px rgba(60, 64, 67, 0.3), 0px 1px 3px 1px rgba(60, 64, 67, 0.15);\n",
              "      fill: #174EA6;\n",
              "    }\n",
              "\n",
              "    [theme=dark] .colab-df-convert {\n",
              "      background-color: #3B4455;\n",
              "      fill: #D2E3FC;\n",
              "    }\n",
              "\n",
              "    [theme=dark] .colab-df-convert:hover {\n",
              "      background-color: #434B5C;\n",
              "      box-shadow: 0px 1px 3px 1px rgba(0, 0, 0, 0.15);\n",
              "      filter: drop-shadow(0px 1px 2px rgba(0, 0, 0, 0.3));\n",
              "      fill: #FFFFFF;\n",
              "    }\n",
              "  </style>\n",
              "\n",
              "      <script>\n",
              "        const buttonEl =\n",
              "          document.querySelector('#df-4818acf7-ac64-4b2c-a021-6ca24f1bbab8 button.colab-df-convert');\n",
              "        buttonEl.style.display =\n",
              "          google.colab.kernel.accessAllowed ? 'block' : 'none';\n",
              "\n",
              "        async function convertToInteractive(key) {\n",
              "          const element = document.querySelector('#df-4818acf7-ac64-4b2c-a021-6ca24f1bbab8');\n",
              "          const dataTable =\n",
              "            await google.colab.kernel.invokeFunction('convertToInteractive',\n",
              "                                                     [key], {});\n",
              "          if (!dataTable) return;\n",
              "\n",
              "          const docLinkHtml = 'Like what you see? Visit the ' +\n",
              "            '<a target=\"_blank\" href=https://colab.research.google.com/notebooks/data_table.ipynb>data table notebook</a>'\n",
              "            + ' to learn more about interactive tables.';\n",
              "          element.innerHTML = '';\n",
              "          dataTable['output_type'] = 'display_data';\n",
              "          await google.colab.output.renderOutput(dataTable, element);\n",
              "          const docLink = document.createElement('div');\n",
              "          docLink.innerHTML = docLinkHtml;\n",
              "          element.appendChild(docLink);\n",
              "        }\n",
              "      </script>\n",
              "    </div>\n",
              "  </div>\n",
              "  "
            ],
            "text/plain": [
              "   Unnamed: 0      AT      AP      AH  ...     TEY     CDP       CO     NOX\n",
              "0           0  4.5878  1018.7  83.675  ...  134.67  11.898  0.32663  81.952\n",
              "1           1  4.2932  1018.3  84.235  ...  134.67  11.892  0.44784  82.377\n",
              "2           2  3.9045  1018.4  84.858  ...  135.10  12.042  0.45144  83.776\n",
              "3           3  3.7436  1018.3  85.434  ...  135.03  11.990  0.23107  82.505\n",
              "4           4  3.7516  1017.8  85.182  ...  134.67  11.910  0.26747  82.028\n",
              "\n",
              "[5 rows x 12 columns]"
            ]
          },
          "metadata": {},
          "execution_count": 83
        }
      ]
    },
    {
      "cell_type": "code",
      "source": [
        "df=df.drop('Unnamed: 0',axis=1)"
      ],
      "metadata": {
        "id": "xZCEwLFFp9XF"
      },
      "execution_count": 84,
      "outputs": []
    },
    {
      "cell_type": "markdown",
      "source": [
        "GTEP"
      ],
      "metadata": {
        "id": "AUlk9Z0BqBfg"
      }
    },
    {
      "cell_type": "code",
      "source": [
        "dataset=df[['AT','AP','AH','TEY','AFDP','GTEP']]\n",
        "dataset.head()"
      ],
      "metadata": {
        "colab": {
          "base_uri": "https://localhost:8080/",
          "height": 206
        },
        "id": "K93MHXLCp_v7",
        "outputId": "b524ed68-47b9-4655-95fe-aff115e979cc"
      },
      "execution_count": 85,
      "outputs": [
        {
          "output_type": "execute_result",
          "data": {
            "text/html": [
              "\n",
              "  <div id=\"df-9d333eea-204b-42e3-b550-49f19037d15d\">\n",
              "    <div class=\"colab-df-container\">\n",
              "      <div>\n",
              "<style scoped>\n",
              "    .dataframe tbody tr th:only-of-type {\n",
              "        vertical-align: middle;\n",
              "    }\n",
              "\n",
              "    .dataframe tbody tr th {\n",
              "        vertical-align: top;\n",
              "    }\n",
              "\n",
              "    .dataframe thead th {\n",
              "        text-align: right;\n",
              "    }\n",
              "</style>\n",
              "<table border=\"1\" class=\"dataframe\">\n",
              "  <thead>\n",
              "    <tr style=\"text-align: right;\">\n",
              "      <th></th>\n",
              "      <th>AT</th>\n",
              "      <th>AP</th>\n",
              "      <th>AH</th>\n",
              "      <th>TEY</th>\n",
              "      <th>AFDP</th>\n",
              "      <th>GTEP</th>\n",
              "    </tr>\n",
              "  </thead>\n",
              "  <tbody>\n",
              "    <tr>\n",
              "      <th>0</th>\n",
              "      <td>4.5878</td>\n",
              "      <td>1018.7</td>\n",
              "      <td>83.675</td>\n",
              "      <td>134.67</td>\n",
              "      <td>3.5758</td>\n",
              "      <td>23.979</td>\n",
              "    </tr>\n",
              "    <tr>\n",
              "      <th>1</th>\n",
              "      <td>4.2932</td>\n",
              "      <td>1018.3</td>\n",
              "      <td>84.235</td>\n",
              "      <td>134.67</td>\n",
              "      <td>3.5709</td>\n",
              "      <td>23.951</td>\n",
              "    </tr>\n",
              "    <tr>\n",
              "      <th>2</th>\n",
              "      <td>3.9045</td>\n",
              "      <td>1018.4</td>\n",
              "      <td>84.858</td>\n",
              "      <td>135.10</td>\n",
              "      <td>3.5828</td>\n",
              "      <td>23.990</td>\n",
              "    </tr>\n",
              "    <tr>\n",
              "      <th>3</th>\n",
              "      <td>3.7436</td>\n",
              "      <td>1018.3</td>\n",
              "      <td>85.434</td>\n",
              "      <td>135.03</td>\n",
              "      <td>3.5808</td>\n",
              "      <td>23.911</td>\n",
              "    </tr>\n",
              "    <tr>\n",
              "      <th>4</th>\n",
              "      <td>3.7516</td>\n",
              "      <td>1017.8</td>\n",
              "      <td>85.182</td>\n",
              "      <td>134.67</td>\n",
              "      <td>3.5781</td>\n",
              "      <td>23.917</td>\n",
              "    </tr>\n",
              "  </tbody>\n",
              "</table>\n",
              "</div>\n",
              "      <button class=\"colab-df-convert\" onclick=\"convertToInteractive('df-9d333eea-204b-42e3-b550-49f19037d15d')\"\n",
              "              title=\"Convert this dataframe to an interactive table.\"\n",
              "              style=\"display:none;\">\n",
              "        \n",
              "  <svg xmlns=\"http://www.w3.org/2000/svg\" height=\"24px\"viewBox=\"0 0 24 24\"\n",
              "       width=\"24px\">\n",
              "    <path d=\"M0 0h24v24H0V0z\" fill=\"none\"/>\n",
              "    <path d=\"M18.56 5.44l.94 2.06.94-2.06 2.06-.94-2.06-.94-.94-2.06-.94 2.06-2.06.94zm-11 1L8.5 8.5l.94-2.06 2.06-.94-2.06-.94L8.5 2.5l-.94 2.06-2.06.94zm10 10l.94 2.06.94-2.06 2.06-.94-2.06-.94-.94-2.06-.94 2.06-2.06.94z\"/><path d=\"M17.41 7.96l-1.37-1.37c-.4-.4-.92-.59-1.43-.59-.52 0-1.04.2-1.43.59L10.3 9.45l-7.72 7.72c-.78.78-.78 2.05 0 2.83L4 21.41c.39.39.9.59 1.41.59.51 0 1.02-.2 1.41-.59l7.78-7.78 2.81-2.81c.8-.78.8-2.07 0-2.86zM5.41 20L4 18.59l7.72-7.72 1.47 1.35L5.41 20z\"/>\n",
              "  </svg>\n",
              "      </button>\n",
              "      \n",
              "  <style>\n",
              "    .colab-df-container {\n",
              "      display:flex;\n",
              "      flex-wrap:wrap;\n",
              "      gap: 12px;\n",
              "    }\n",
              "\n",
              "    .colab-df-convert {\n",
              "      background-color: #E8F0FE;\n",
              "      border: none;\n",
              "      border-radius: 50%;\n",
              "      cursor: pointer;\n",
              "      display: none;\n",
              "      fill: #1967D2;\n",
              "      height: 32px;\n",
              "      padding: 0 0 0 0;\n",
              "      width: 32px;\n",
              "    }\n",
              "\n",
              "    .colab-df-convert:hover {\n",
              "      background-color: #E2EBFA;\n",
              "      box-shadow: 0px 1px 2px rgba(60, 64, 67, 0.3), 0px 1px 3px 1px rgba(60, 64, 67, 0.15);\n",
              "      fill: #174EA6;\n",
              "    }\n",
              "\n",
              "    [theme=dark] .colab-df-convert {\n",
              "      background-color: #3B4455;\n",
              "      fill: #D2E3FC;\n",
              "    }\n",
              "\n",
              "    [theme=dark] .colab-df-convert:hover {\n",
              "      background-color: #434B5C;\n",
              "      box-shadow: 0px 1px 3px 1px rgba(0, 0, 0, 0.15);\n",
              "      filter: drop-shadow(0px 1px 2px rgba(0, 0, 0, 0.3));\n",
              "      fill: #FFFFFF;\n",
              "    }\n",
              "  </style>\n",
              "\n",
              "      <script>\n",
              "        const buttonEl =\n",
              "          document.querySelector('#df-9d333eea-204b-42e3-b550-49f19037d15d button.colab-df-convert');\n",
              "        buttonEl.style.display =\n",
              "          google.colab.kernel.accessAllowed ? 'block' : 'none';\n",
              "\n",
              "        async function convertToInteractive(key) {\n",
              "          const element = document.querySelector('#df-9d333eea-204b-42e3-b550-49f19037d15d');\n",
              "          const dataTable =\n",
              "            await google.colab.kernel.invokeFunction('convertToInteractive',\n",
              "                                                     [key], {});\n",
              "          if (!dataTable) return;\n",
              "\n",
              "          const docLinkHtml = 'Like what you see? Visit the ' +\n",
              "            '<a target=\"_blank\" href=https://colab.research.google.com/notebooks/data_table.ipynb>data table notebook</a>'\n",
              "            + ' to learn more about interactive tables.';\n",
              "          element.innerHTML = '';\n",
              "          dataTable['output_type'] = 'display_data';\n",
              "          await google.colab.output.renderOutput(dataTable, element);\n",
              "          const docLink = document.createElement('div');\n",
              "          docLink.innerHTML = docLinkHtml;\n",
              "          element.appendChild(docLink);\n",
              "        }\n",
              "      </script>\n",
              "    </div>\n",
              "  </div>\n",
              "  "
            ],
            "text/plain": [
              "       AT      AP      AH     TEY    AFDP    GTEP\n",
              "0  4.5878  1018.7  83.675  134.67  3.5758  23.979\n",
              "1  4.2932  1018.3  84.235  134.67  3.5709  23.951\n",
              "2  3.9045  1018.4  84.858  135.10  3.5828  23.990\n",
              "3  3.7436  1018.3  85.434  135.03  3.5808  23.911\n",
              "4  3.7516  1017.8  85.182  134.67  3.5781  23.917"
            ]
          },
          "metadata": {},
          "execution_count": 85
        }
      ]
    },
    {
      "cell_type": "code",
      "source": [
        "train=dataset[0:21947]\n",
        "test=dataset[21947:36733]"
      ],
      "metadata": {
        "id": "1JsFRJmNqFOr"
      },
      "execution_count": 86,
      "outputs": []
    },
    {
      "cell_type": "code",
      "source": [
        "scaler = MinMaxScaler(feature_range=(0, 1))\n",
        "scaled_train = scaler.fit_transform(train)\n",
        "scaled_test=scaler.transform(test)"
      ],
      "metadata": {
        "id": "8bTE9GkaqXTk"
      },
      "execution_count": 87,
      "outputs": []
    },
    {
      "cell_type": "code",
      "source": [
        "reframed_train=DataFrame(scaled_train)\n",
        "reframed_test=DataFrame(scaled_test)"
      ],
      "metadata": {
        "id": "7ATUsUBmvEKV"
      },
      "execution_count": 88,
      "outputs": []
    },
    {
      "cell_type": "code",
      "source": [
        "reframed_train_values=reframed_train.values\n",
        "reframed_test_values=reframed_test.values"
      ],
      "metadata": {
        "id": "KYOUhteWrjG2"
      },
      "execution_count": 89,
      "outputs": []
    },
    {
      "cell_type": "code",
      "source": [
        "train_X, train_y = reframed_train_values[:, :-1], reframed_train_values[:, -1]\n",
        "test_X, test_y = reframed_test_values[:, :-1], reframed_test_values[:, -1]"
      ],
      "metadata": {
        "id": "xqOQ25Ldrw50"
      },
      "execution_count": 90,
      "outputs": []
    },
    {
      "cell_type": "code",
      "source": [
        "train_X = train_X.reshape((train_X.shape[0], 1, train_X.shape[1]))\n",
        "test_X = test_X.reshape((test_X.shape[0], 1, test_X.shape[1]))"
      ],
      "metadata": {
        "id": "5T3Y3Pg8r6Bl"
      },
      "execution_count": 91,
      "outputs": []
    },
    {
      "cell_type": "code",
      "source": [
        "print(train_X.shape, train_y.shape, test_X.shape, test_y.shape)"
      ],
      "metadata": {
        "colab": {
          "base_uri": "https://localhost:8080/"
        },
        "id": "tBSRl6aHr9ES",
        "outputId": "4130c22d-4e8e-4e65-e302-54f3b2b504d6"
      },
      "execution_count": 92,
      "outputs": [
        {
          "output_type": "stream",
          "name": "stdout",
          "text": [
            "(21947, 1, 5) (21947,) (14786, 1, 5) (14786,)\n"
          ]
        }
      ]
    },
    {
      "cell_type": "code",
      "source": [
        "model = Sequential()\n",
        "model.add(LSTM(50, input_shape=(train_X.shape[1], train_X.shape[2])))\n",
        "model.add(Dense(1))\n",
        "model.compile(loss='mae', optimizer='adam')\n",
        "# fit network\n",
        "history = model.fit(train_X, train_y, epochs=50, batch_size=72, validation_data=(test_X, test_y), verbose=2, shuffle=False)\n",
        "# plot history\n",
        "plt.plot(history.history['loss'], label='train')\n",
        "plt.plot(history.history['val_loss'], label='test')\n",
        "plt.legend()\n",
        "plt.show()"
      ],
      "metadata": {
        "colab": {
          "base_uri": "https://localhost:8080/",
          "height": 1000
        },
        "id": "HkSy6PtZsAei",
        "outputId": "5b8266ca-0d6f-46cb-9c49-1564cb14a33c"
      },
      "execution_count": 93,
      "outputs": [
        {
          "output_type": "stream",
          "name": "stdout",
          "text": [
            "Epoch 1/50\n",
            "305/305 - 4s - loss: 0.1314 - val_loss: 0.1233\n",
            "Epoch 2/50\n",
            "305/305 - 1s - loss: 0.0350 - val_loss: 0.0697\n",
            "Epoch 3/50\n",
            "305/305 - 1s - loss: 0.0305 - val_loss: 0.0590\n",
            "Epoch 4/50\n",
            "305/305 - 1s - loss: 0.0289 - val_loss: 0.0570\n",
            "Epoch 5/50\n",
            "305/305 - 1s - loss: 0.0278 - val_loss: 0.0556\n",
            "Epoch 6/50\n",
            "305/305 - 1s - loss: 0.0262 - val_loss: 0.0548\n",
            "Epoch 7/50\n",
            "305/305 - 1s - loss: 0.0249 - val_loss: 0.0544\n",
            "Epoch 8/50\n",
            "305/305 - 1s - loss: 0.0237 - val_loss: 0.0550\n",
            "Epoch 9/50\n",
            "305/305 - 1s - loss: 0.0226 - val_loss: 0.0566\n",
            "Epoch 10/50\n",
            "305/305 - 1s - loss: 0.0219 - val_loss: 0.0587\n",
            "Epoch 11/50\n",
            "305/305 - 1s - loss: 0.0211 - val_loss: 0.0594\n",
            "Epoch 12/50\n",
            "305/305 - 1s - loss: 0.0203 - val_loss: 0.0600\n",
            "Epoch 13/50\n",
            "305/305 - 1s - loss: 0.0198 - val_loss: 0.0612\n",
            "Epoch 14/50\n",
            "305/305 - 1s - loss: 0.0195 - val_loss: 0.0615\n",
            "Epoch 15/50\n",
            "305/305 - 1s - loss: 0.0191 - val_loss: 0.0618\n",
            "Epoch 16/50\n",
            "305/305 - 1s - loss: 0.0186 - val_loss: 0.0613\n",
            "Epoch 17/50\n",
            "305/305 - 1s - loss: 0.0182 - val_loss: 0.0612\n",
            "Epoch 18/50\n",
            "305/305 - 1s - loss: 0.0179 - val_loss: 0.0610\n",
            "Epoch 19/50\n",
            "305/305 - 1s - loss: 0.0176 - val_loss: 0.0605\n",
            "Epoch 20/50\n",
            "305/305 - 1s - loss: 0.0174 - val_loss: 0.0601\n",
            "Epoch 21/50\n",
            "305/305 - 1s - loss: 0.0172 - val_loss: 0.0602\n",
            "Epoch 22/50\n",
            "305/305 - 1s - loss: 0.0169 - val_loss: 0.0597\n",
            "Epoch 23/50\n",
            "305/305 - 1s - loss: 0.0167 - val_loss: 0.0594\n",
            "Epoch 24/50\n",
            "305/305 - 1s - loss: 0.0165 - val_loss: 0.0590\n",
            "Epoch 25/50\n",
            "305/305 - 1s - loss: 0.0164 - val_loss: 0.0584\n",
            "Epoch 26/50\n",
            "305/305 - 1s - loss: 0.0163 - val_loss: 0.0579\n",
            "Epoch 27/50\n",
            "305/305 - 1s - loss: 0.0162 - val_loss: 0.0576\n",
            "Epoch 28/50\n",
            "305/305 - 1s - loss: 0.0161 - val_loss: 0.0569\n",
            "Epoch 29/50\n",
            "305/305 - 1s - loss: 0.0161 - val_loss: 0.0570\n",
            "Epoch 30/50\n",
            "305/305 - 1s - loss: 0.0159 - val_loss: 0.0559\n",
            "Epoch 31/50\n",
            "305/305 - 1s - loss: 0.0158 - val_loss: 0.0560\n",
            "Epoch 32/50\n",
            "305/305 - 1s - loss: 0.0159 - val_loss: 0.0557\n",
            "Epoch 33/50\n",
            "305/305 - 1s - loss: 0.0157 - val_loss: 0.0555\n",
            "Epoch 34/50\n",
            "305/305 - 1s - loss: 0.0156 - val_loss: 0.0551\n",
            "Epoch 35/50\n",
            "305/305 - 1s - loss: 0.0156 - val_loss: 0.0549\n",
            "Epoch 36/50\n",
            "305/305 - 1s - loss: 0.0155 - val_loss: 0.0548\n",
            "Epoch 37/50\n",
            "305/305 - 1s - loss: 0.0154 - val_loss: 0.0544\n",
            "Epoch 38/50\n",
            "305/305 - 1s - loss: 0.0154 - val_loss: 0.0546\n",
            "Epoch 39/50\n",
            "305/305 - 1s - loss: 0.0154 - val_loss: 0.0544\n",
            "Epoch 40/50\n",
            "305/305 - 1s - loss: 0.0153 - val_loss: 0.0538\n",
            "Epoch 41/50\n",
            "305/305 - 1s - loss: 0.0153 - val_loss: 0.0538\n",
            "Epoch 42/50\n",
            "305/305 - 1s - loss: 0.0152 - val_loss: 0.0534\n",
            "Epoch 43/50\n",
            "305/305 - 1s - loss: 0.0151 - val_loss: 0.0528\n",
            "Epoch 44/50\n",
            "305/305 - 1s - loss: 0.0151 - val_loss: 0.0528\n",
            "Epoch 45/50\n",
            "305/305 - 1s - loss: 0.0150 - val_loss: 0.0525\n",
            "Epoch 46/50\n",
            "305/305 - 1s - loss: 0.0150 - val_loss: 0.0521\n",
            "Epoch 47/50\n",
            "305/305 - 1s - loss: 0.0149 - val_loss: 0.0521\n",
            "Epoch 48/50\n",
            "305/305 - 1s - loss: 0.0148 - val_loss: 0.0518\n",
            "Epoch 49/50\n",
            "305/305 - 1s - loss: 0.0148 - val_loss: 0.0517\n",
            "Epoch 50/50\n",
            "305/305 - 1s - loss: 0.0147 - val_loss: 0.0513\n"
          ]
        },
        {
          "output_type": "display_data",
          "data": {
            "image/png": "[encoded data removed]",
            "text/plain": [
              "<Figure size 432x288 with 1 Axes>"
            ]
          },
          "metadata": {
            "needs_background": "light"
          }
        }
      ]
    },
    {
      "cell_type": "code",
      "source": [
        "y_pred=model.predict(test_X)\n",
        "test_X = test_X.reshape((test_X.shape[0], test_X.shape[2]))\n",
        "arr1 = np.append(test_X, y_pred, axis=1)\n",
        "inv_arr1 = scaler.inverse_transform(arr1)\n",
        "iny_pred=inv_arr1[:,[5]]\n",
        "test_y=test_y.reshape(test_y.shape[0],1)\n",
        "arr2=np.append(test_X,test_y,axis=1)\n",
        "inv_arr2=scaler.inverse_transform(arr2)\n",
        "iny_test=inv_arr2[:,[5]]\n",
        "print(r2_score(iny_test,iny_pred))"
      ],
      "metadata": {
        "colab": {
          "base_uri": "https://localhost:8080/"
        },
        "id": "-nPCWdZguEe9",
        "outputId": "48c506ed-dc05-4037-915e-4ba352c1d918"
      },
      "execution_count": 94,
      "outputs": [
        {
          "output_type": "stream",
          "name": "stdout",
          "text": [
            "0.8986800375051129\n"
          ]
        }
      ]
    },
    {
      "cell_type": "code",
      "source": [
        ""
      ],
      "metadata": {
        "id": "SFlVcCTGssXf"
      },
      "execution_count": null,
      "outputs": []
    }
  ]
}